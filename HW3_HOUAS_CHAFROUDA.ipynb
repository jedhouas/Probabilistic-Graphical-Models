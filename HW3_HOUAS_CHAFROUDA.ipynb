{
  "nbformat": 4,
  "nbformat_minor": 0,
  "metadata": {
    "kernelspec": {
      "display_name": "Python 3",
      "language": "python",
      "name": "python3"
    },
    "language_info": {
      "codemirror_mode": {
        "name": "ipython",
        "version": 3
      },
      "file_extension": ".py",
      "mimetype": "text/x-python",
      "name": "python",
      "nbconvert_exporter": "python",
      "pygments_lexer": "ipython3",
      "version": "3.6.5"
    },
    "colab": {
      "name": "HW3_HOUAS_CHAFROUDA.ipynb",
      "provenance": [],
      "collapsed_sections": [],
      "toc_visible": true,
      "include_colab_link": true
    }
  },
  "cells": [
    {
      "cell_type": "markdown",
      "metadata": {
        "id": "view-in-github",
        "colab_type": "text"
      },
      "source": [
        "<a href=\"https://colab.research.google.com/github/jedhouas/Probabilistic-Graphical-Models/blob/master/HW3_HOUAS_CHAFROUDA.ipynb\" target=\"_parent\"><img src=\"https://colab.research.google.com/assets/colab-badge.svg\" alt=\"Open In Colab\"/></a>"
      ]
    },
    {
      "cell_type": "markdown",
      "metadata": {
        "id": "TnUXxd1FZTbk",
        "colab_type": "text"
      },
      "source": [
        "<h1><center>Homework 3: Gibbs sampling and mean field VB for the probit model</center></h1>"
      ]
    },
    {
      "cell_type": "markdown",
      "metadata": {
        "id": "CtCwUSQxZTbo",
        "colab_type": "text"
      },
      "source": [
        "##### Jed HOUAS\n"
      ]
    },
    {
      "cell_type": "markdown",
      "metadata": {
        "id": "F5zXTCazf2sZ",
        "colab_type": "text"
      },
      "source": [
        "1)"
      ]
    },
    {
      "cell_type": "code",
      "metadata": {
        "id": "gKes_PjuZTbs",
        "colab_type": "code",
        "colab": {}
      },
      "source": [
        "import numpy as np\n",
        "import pandas as pd\n",
        "from sklearn.model_selection import train_test_split\n",
        "import matplotlib.pyplot as plt\n",
        "from scipy.stats import truncnorm,mode\n",
        "import time"
      ],
      "execution_count": 0,
      "outputs": []
    },
    {
      "cell_type": "code",
      "metadata": {
        "id": "I2czXomEwUam",
        "colab_type": "code",
        "outputId": "f0678b67-44d8-4807-ae44-7122fab642d8",
        "colab": {
          "base_uri": "https://localhost:8080/",
          "height": 203
        }
      },
      "source": [
        "!wget https://archive.ics.uci.edu/ml/machine-learning-databases/statlog/german/german.data-numeric"
      ],
      "execution_count": 0,
      "outputs": [
        {
          "output_type": "stream",
          "text": [
            "--2020-01-24 16:57:12--  https://archive.ics.uci.edu/ml/machine-learning-databases/statlog/german/german.data-numeric\n",
            "Resolving archive.ics.uci.edu (archive.ics.uci.edu)... 128.195.10.252\n",
            "Connecting to archive.ics.uci.edu (archive.ics.uci.edu)|128.195.10.252|:443... connected.\n",
            "HTTP request sent, awaiting response... 200 OK\n",
            "Length: 102000 (100K) [application/x-httpd-php]\n",
            "Saving to: ‘german.data-numeric’\n",
            "\n",
            "german.data-numeric 100%[===================>]  99.61K   498KB/s    in 0.2s    \n",
            "\n",
            "2020-01-24 16:57:13 (498 KB/s) - ‘german.data-numeric’ saved [102000/102000]\n",
            "\n"
          ],
          "name": "stdout"
        }
      ]
    },
    {
      "cell_type": "code",
      "metadata": {
        "id": "JF0LLrezZTb3",
        "colab_type": "code",
        "colab": {}
      },
      "source": [
        "data = pd.read_csv('/content/german.data-numeric', header= None, delimiter= '\\s+', index_col=False)\n",
        "X=data.iloc[:,:-1]\n",
        "cols = [\"x\"+str(i) for i in X.columns]\n",
        "X.columns = cols\n",
        "y=data.iloc[:,-1]\n",
        "#Normalisation\n",
        "X=(X-X.mean())/X.std()\n",
        "#adding a constant column \n",
        "X.insert(0,'cte', 1)\n",
        "#casting y values to +1 / -1 \n",
        "y=y*2-3"
      ],
      "execution_count": 0,
      "outputs": []
    },
    {
      "cell_type": "code",
      "metadata": {
        "id": "IiLWcP6JEjyb",
        "colab_type": "code",
        "colab": {}
      },
      "source": [
        "X_train, X_test, y_train, y_test = train_test_split(X.values, y.values, test_size=.2)"
      ],
      "execution_count": 0,
      "outputs": []
    },
    {
      "cell_type": "code",
      "metadata": {
        "id": "1N64ZfAMl6U0",
        "colab_type": "code",
        "outputId": "3ebb2c85-131b-4db7-ff4e-f60e719cd9ea",
        "colab": {
          "base_uri": "https://localhost:8080/",
          "height": 34
        }
      },
      "source": [
        "(X_train.T@X_train).shape"
      ],
      "execution_count": 0,
      "outputs": [
        {
          "output_type": "execute_result",
          "data": {
            "text/plain": [
              "(25, 25)"
            ]
          },
          "metadata": {
            "tags": []
          },
          "execution_count": 13
        }
      ]
    },
    {
      "cell_type": "markdown",
      "metadata": {
        "id": "ybJ9lmdtf9cF",
        "colab_type": "text"
      },
      "source": [
        "###3) Gibbs Sampling\n"
      ]
    },
    {
      "cell_type": "markdown",
      "metadata": {
        "id": "fYas51j358OR",
        "colab_type": "text"
      },
      "source": [
        "we need to sequentially sample the following ( we start off with a burn in period) :(check report for more details ) \n",
        "*  $\\beta^{t+1} \\sim p(\\beta|z^t) = \\mathcal N(\\mu_p^t, \\Sigma_p) ,\\quad\n",
        "    \\Sigma_p = (\\frac1\\tau I_p + X^TX)^{-1},\n",
        "    \\quad\n",
        "    \\mu^t = \\Sigma_p X^Tz \n",
        "$\n",
        "\n",
        "*  $z^{t+1} \\sim \\mathcal{N} (x_i^T\\beta, 1; y_i)[z_i y_i>0] \\quad \\text{such that }p(z|\\beta^{t+1},y^t) = \\exp(-\\frac12\\|z-X\\beta\\|^2) \\prod_i \\mathbf{1}_{\\{y_iz_i > 0\\}}$\n",
        "\n",
        "\n",
        "\n",
        "\n"
      ]
    },
    {
      "cell_type": "code",
      "metadata": {
        "id": "fNJWWosd5JWW",
        "colab_type": "code",
        "colab": {}
      },
      "source": [
        "class GibbsSampler:\n",
        "  \n",
        "    def __init__(self,tau=10**2, burn_in=1000):\n",
        "        self.burn_in = burn_in\n",
        "        self.tau = tau\n",
        "\n",
        "    def sample(self,X,y, n_iter):\n",
        "        \"\"\"Sampling from the posterior distribution.\n",
        "        -----------------------------------------------------------------\n",
        "        Input:\n",
        "            n_iter : number of iterations \n",
        "        ------------------------------------------------------------------            \n",
        "        Output:\n",
        "            beta_samples, z_samples : samples from the posterior \n",
        "        \"\"\"\n",
        "        n,p = X.shape\n",
        "        # posterior dist init \n",
        "        # covariance matrix\n",
        "        cov_ = np.linalg.inv(np.eye(p)/ self.tau + X.T @ X) \n",
        "        #z randomly initialized : \n",
        "        z = np.random.randn(n)\n",
        "        # mean\n",
        "        mu = cov_@X.T@z\n",
        "        temp = cov_ @ X.T #we don't need to calculate this every time\n",
        "        beta_samples= []\n",
        "        z_samples=[]\n",
        "        for t in range(self.burn_in+n_iter):\n",
        "            ## Sample beta\n",
        "            beta = np.random.multivariate_normal(mu, cov=cov_)\n",
        "            ## Sample z\n",
        "            mean = X@beta\n",
        "            a=np.where(y<0,-np.inf,-mean)\n",
        "            b=np.where(y>0,np.inf,-mean)\n",
        "            z= truncnorm.rvs(a, b, loc=mean)\n",
        "            mu = temp @ z  # shape (d,)\n",
        "            if t >= self.burn_in:\n",
        "                beta_samples+=[beta]\n",
        "                z_samples+=[z]\n",
        "        return np.array(beta_samples), np.array(z_samples)"
      ],
      "execution_count": 0,
      "outputs": []
    },
    {
      "cell_type": "code",
      "metadata": {
        "id": "YDptHo0hU9wr",
        "colab_type": "code",
        "outputId": "7a9f17da-139c-4735-a80e-05f55a541cd9",
        "colab": {
          "base_uri": "https://localhost:8080/",
          "height": 34
        }
      },
      "source": [
        "gi_sampler = GibbsSampler(burn_in=1000)\n",
        "start_time = time.time()\n",
        "betas, zs = gi_sampler.sample(X_train,y_train,5000)\n",
        "print(\"Sampling Time: %.3f\" % (time.time()-start_time))"
      ],
      "execution_count": 0,
      "outputs": [
        {
          "output_type": "stream",
          "text": [
            "Sampling Time: 82.878\n"
          ],
          "name": "stdout"
        }
      ]
    },
    {
      "cell_type": "code",
      "metadata": {
        "id": "wOnSQwj1VjP7",
        "colab_type": "code",
        "outputId": "4563f379-5293-4238-f156-0a4c8b1b6d9b",
        "colab": {
          "base_uri": "https://localhost:8080/",
          "height": 757
        }
      },
      "source": [
        "fig = plt.figure(figsize=(11, 6))\n",
        "nrows = 2\n",
        "ncols = 2\n",
        "n_bins = 40\n",
        "fig,axes=plt.subplots(nrows,ncols,figsize=(10,10))\n",
        "axes=axes.ravel()\n",
        "indices=[0,2,5,6]\n",
        "for i,idx in enumerate(indices):\n",
        "  axes[i].hist(betas[:, idx], bins=n_bins,rwidth=.9 )\n",
        "  axes[i].set_title('$\\\\beta_{%d}$' % idx)\n",
        "fig.tight_layout()\n",
        "fig.suptitle(\"Posterior Beta dist \", y=1.);"
      ],
      "execution_count": 0,
      "outputs": [
        {
          "output_type": "display_data",
          "data": {
            "text/plain": [
              "<Figure size 792x432 with 0 Axes>"
            ]
          },
          "metadata": {
            "tags": []
          }
        },
        {
          "output_type": "display_data",
          "data": {
            "image/png": "[encoded data removed]",
            "text/plain": [
              "<Figure size 720x720 with 4 Axes>"
            ]
          },
          "metadata": {
            "tags": []
          }
        }
      ]
    },
    {
      "cell_type": "code",
      "metadata": {
        "id": "j8vLRNsdYHyf",
        "colab_type": "code",
        "outputId": "966d5c34-fa87-4c84-a3ad-4493a9455b50",
        "colab": {
          "base_uri": "https://localhost:8080/",
          "height": 757
        }
      },
      "source": [
        "fig = plt.figure(figsize=(11, 6))\n",
        "nrows = 2\n",
        "ncols = 2\n",
        "n_bins = 40\n",
        "fig,axes=plt.subplots(nrows,ncols,figsize=(10,10))\n",
        "axes=axes.ravel()\n",
        "indices=[0,2,5,6]\n",
        "for i,idx in enumerate(indices):\n",
        "  axes[i].hist(zs[:, idx], bins=n_bins,rwidth=.9 )\n",
        "  axes[i].set_title('$z_{%d}$' % idx)\n",
        "fig.tight_layout()\n",
        "fig.suptitle(\"Posterior Z dist \", y=1.);"
      ],
      "execution_count": 0,
      "outputs": [
        {
          "output_type": "display_data",
          "data": {
            "text/plain": [
              "<Figure size 792x432 with 0 Axes>"
            ]
          },
          "metadata": {
            "tags": []
          }
        },
        {
          "output_type": "display_data",
          "data": {
            "image/png": "[encoded data removed]",
            "text/plain": [
              "<Figure size 720x720 with 4 Axes>"
            ]
          },
          "metadata": {
            "tags": []
          }
        }
      ]
    },
    {
      "cell_type": "code",
      "metadata": {
        "id": "3SxV2T3ZZuQw",
        "colab_type": "code",
        "colab": {}
      },
      "source": [
        "def predict(X,betas):\n",
        "        n= X.shape[0]\n",
        "        n_samples=betas.shape[0]\n",
        "        Z = X @betas.T + np.random.randn(n,n_samples )\n",
        "        Y=np.sign(np.sum(np.sign(Z),axis=1))\n",
        "        return Y #return most probable output "
      ],
      "execution_count": 0,
      "outputs": []
    },
    {
      "cell_type": "code",
      "metadata": {
        "id": "kwmXB2U1qoVS",
        "colab_type": "code",
        "colab": {}
      },
      "source": [
        "y_pred=predict(X_test,betas)"
      ],
      "execution_count": 0,
      "outputs": []
    },
    {
      "cell_type": "markdown",
      "metadata": {
        "id": "wWqeu04eg7Nk",
        "colab_type": "text"
      },
      "source": [
        "we get an accuracy of around 80%\n",
        "\n",
        "\n",
        "\n"
      ]
    },
    {
      "cell_type": "code",
      "metadata": {
        "id": "RgbDqxh5eLkh",
        "colab_type": "code",
        "outputId": "ae6291f2-a82a-4ee0-dddf-8119135bacad",
        "colab": {
          "base_uri": "https://localhost:8080/",
          "height": 170
        }
      },
      "source": [
        "from sklearn.metrics import classification_report\n",
        "print(classification_report(y_test,y_pred))"
      ],
      "execution_count": 0,
      "outputs": [
        {
          "output_type": "stream",
          "text": [
            "              precision    recall  f1-score   support\n",
            "\n",
            "          -1       0.81      0.90      0.85       135\n",
            "           1       0.72      0.55      0.63        65\n",
            "\n",
            "    accuracy                           0.79       200\n",
            "   macro avg       0.76      0.73      0.74       200\n",
            "weighted avg       0.78      0.79      0.78       200\n",
            "\n"
          ],
          "name": "stdout"
        }
      ]
    },
    {
      "cell_type": "markdown",
      "metadata": {
        "id": "xPTVvf1cz9i9",
        "colab_type": "text"
      },
      "source": [
        "###4) Mean filed variational algorithm"
      ]
    },
    {
      "cell_type": "code",
      "metadata": {
        "id": "5ovl42ByIVhA",
        "colab_type": "code",
        "colab": {}
      },
      "source": [
        "from scipy.special import erf\n",
        "\n",
        "def compute_Ez(i,y_i,mu_i): # attention y_i =2,1\n",
        "    if y_i == 2 :\n",
        "        return mu_i+np.sqrt(2/np.pi)*np.exp(-mu_i**2)/(1-erf(-mu_i/np.sqrt(2)))\n",
        "    return mu_i - np.sqrt(2/np.pi)*np.exp(-mu_i**2)/(1+erf(-mu_i/np.sqrt(2)))\n",
        "\n",
        "def compute_Epz(X,m,S):\n",
        "    A = np.dot(m,m.T)\n",
        "    for i in range(S.shape[0]):\n",
        "        for j in range(S.shape[1]):\n",
        "            A[i][j] = A[i][j]+S[i][j]\n",
        "    return -(np.matrix.trace(np.dot(np.dot(X.T,X),A)))/2.0\n",
        "\n",
        "def compute_Eqz(y,mu,n):\n",
        "    sum_ = 0\n",
        "    for i in range(n):\n",
        "        phi_i = (erf(-mu[i][0]/np.sqrt(2))+1)/2.0\n",
        "        sum_ += (mu[i][0]**2)/2.0 + (y[i][0]-1)*np.log(1-phi_i)+(1-(y[i][0]-1))*np.log(phi_i)\n",
        "    return -sum_\n",
        "\n",
        "def compute_Epbeta(m,S,tau,p):\n",
        "    return -(np.sum(np.dot(m.T,m))+np.matrix.trace(S))/(2.0*tau)-(np.log(2.0*np.pi)+np.log(tau))*(p-1)/2.0\n",
        "\n",
        "def compute_Eqbeta(S):\n",
        "    return -np.log(abs(np.linalg.det(S)))/2.0-(1+np.log(2.0*np.pi))/2.0\n",
        "\n",
        "def compute_bound(data,m,S,tau,mu):\n",
        "    n,p = data.shape\n",
        "    X = data.iloc[:,:-1].values\n",
        "    y = np.array([data.iloc[:,p-1].values]).T\n",
        "    print('epz',compute_Epz(X,m,S))\n",
        "    print('eqz',compute_Eqz(y,mu,n))\n",
        "    print('epbeta',compute_Epbeta(m,S,tau,p))\n",
        "    print('eqbeta',compute_Eqbeta(S))\n",
        "    return compute_Epz(X,m,S)-compute_Eqz(y,mu,n)+compute_Epbeta(m,S,tau,p)-compute_Eqbeta(S)\n",
        "\n",
        "def init_gibbs_sampling(data,p,tau,n):\n",
        "    m_beta = [0 for i in range(p-1)]\n",
        "    V_beta = np.diag([tau for i in range(p-1)])\n",
        "    \n",
        "    beta = np.array([[0 for i in range(p-1)]]).T\n",
        "    z = np.array([[0 for i in range(n)]]).T\n",
        "\n",
        "    return m_beta,V_beta,beta,z\n",
        "\n",
        "def compute_param_beta(X,V):\n",
        "    S = np.linalg.inv(np.dot(X.T,X)+np.linalg.inv(V)) \n",
        "    m_ = np.dot(S,X.T)\n",
        "    return m_,S\n",
        "\n",
        "def mean_field(data,N_iter,tau,eps):\n",
        "    n,p = data.shape\n",
        "    m_beta0,V_beta,beta0,z0 = init_gibbs_sampling(data,p,tau,n) # prendre V_beta de gibbs prior variance de beta \n",
        "    m_beta0 = np.array([m_beta0]).T\n",
        "    # compute parameters of beta\n",
        "    m_,S = compute_param_beta(data.iloc[:,:-1].values,V_beta) #mean operator, même variance  \n",
        "    #print(m_beta0,m_beta0.shape)\n",
        "    # mean gaussienne tronquee\n",
        "    mu = np.dot(data.iloc[:,:-1].values,m_beta0)\n",
        "    #print(mu,mu.shape)\n",
        "    # vecteur mean de z suivant q(z)\n",
        "    E_qz = np.zeros([n,1])\n",
        "    for i in range(n):\n",
        "        E_qz[i][0] = compute_Ez(i,data.iloc[i,p-1],mu[i][0])\n",
        "    print(E_qz)\n",
        "    m_beta = np.dot(m_,E_qz)\n",
        "    print(m_beta,m_beta.shape)\n",
        "    # lower bound\n",
        "    print(compute_bound(data,m_beta,S,tau,mu))\n",
        "    store_bound = [10000]\n",
        "    store_mbeta = np.zeros([N_iter,p-1])\n",
        "    converge = False\n",
        "    t = 1\n",
        "    while (converge==False):\n",
        "        # mean gaussienne tronquee\n",
        "        mu = np.dot(data.iloc[:,:-1].values,m_beta0)\n",
        "        # vecteur expectation de z suivant q(z)\n",
        "        for i in range(n):\n",
        "            E_qz[i][0] = compute_Ez(i,data.iloc[i,p-1],mu[i][0])\n",
        "        #mean beta\n",
        "        m_beta = np.dot(m_,E_qz)\n",
        "        #update \n",
        "        m_beta0 = m_beta   \n",
        "        store_mbeta[t] = [m_beta[i][0] for i in range(p-1)]\n",
        "        \n",
        "        # lower bound\n",
        "        store_bound.append(compute_bound(data,m_beta,S,tau,mu))\n",
        "        if abs(store_bound[t]-store_bound[t-1])<eps:\n",
        "            converge = True\n",
        "        print(t,store_bound[t])\n",
        "        t+=1\n",
        "        if (t==N_iter):\n",
        "            converge=True\n",
        "            print('not converged')\n",
        "    print(store_mbeta[t-1])\n",
        "    return store_bound, store_mbeta"
      ],
      "execution_count": 0,
      "outputs": []
    },
    {
      "cell_type": "code",
      "metadata": {
        "id": "CDRnyhwTNMnT",
        "colab_type": "code",
        "colab": {}
      },
      "source": [
        "data_normalized = pd.DataFrame(index=data.index)\n",
        "for j in range(data.shape[1]):\n",
        "    data_normalized[str(j)] = np.array([[1 for k in range(len(data.index))]]).T\n",
        "for i in range(data.shape[0]):\n",
        "    moy = np.mean(data.iloc[i,:data.shape[1]-1].T)\n",
        "    std = np.std(data.iloc[i,:data.shape[1]-1].T)\n",
        "    for j in range(1,data.shape[1]):\n",
        "        data_normalized.iloc[i,j] = (data.iloc[i,j-1]-moy)/std\n",
        "data_normalized[str(data.shape[1])] = data.iloc[:,data.shape[1]-1]\n",
        "data_normalized[\"25\"] = data[24]\n",
        "d_train = data_normalized.iloc[:int(0.8*data_normalized.shape[0]),:]\n",
        "d_test = data_normalized.iloc[int(0.8*data_normalized.shape[0]):,:]\n",
        "y_test = d_test.iloc[:,-1]\n",
        "for i in range(len(y_test)):\n",
        "  if y_test.iloc[i] == 2:\n",
        "    y_test.iloc[i] = 1\n",
        "  else:\n",
        "    y_test.iloc[i] = -1\n",
        "eps = 1e-08\n",
        "N_iter = 10000\n",
        "tau=10**2\n",
        "#data_MF = X\n",
        "#data_MF[\"y\"] = y\n",
        "start_time = time.time()\n",
        "store_bound,store_mbeta = mean_field(d_train,N_iter,tau,eps)\n",
        "print(\"Sampling Time: %.3f\" % (time.time()-start_time))"
      ],
      "execution_count": 0,
      "outputs": []
    },
    {
      "cell_type": "code",
      "metadata": {
        "id": "Efxp7DMzvkKj",
        "colab_type": "code",
        "outputId": "42b356fe-93c4-45d5-cd53-317cbd03b463",
        "colab": {
          "base_uri": "https://localhost:8080/",
          "height": 170
        }
      },
      "source": [
        "def predict_MF(X,betas):\n",
        "  n= X.shape[0]\n",
        "  n_samples=betas.shape[0]\n",
        "  Z = X @betas.T + np.random.randn(n,n_samples )\n",
        "  Y=np.sign(np.sum(np.sign(Z),axis=1))\n",
        "  for i in range(len(Y)):\n",
        "    if Y.iloc[i] == 0:\n",
        "      Y.iloc[i] = 1\n",
        "  return Y #return most probable output \n",
        "y_pred=predict_MF(d_test.iloc[:,:-1],store_mbeta)\n",
        "\n",
        "from sklearn.metrics import classification_report\n",
        "print(classification_report(y_test,y_pred))"
      ],
      "execution_count": 0,
      "outputs": [
        {
          "output_type": "stream",
          "text": [
            "              precision    recall  f1-score   support\n",
            "\n",
            "          -1       0.81      0.85      0.83       139\n",
            "           1       0.61      0.54      0.57        61\n",
            "\n",
            "    accuracy                           0.76       200\n",
            "   macro avg       0.71      0.69      0.70       200\n",
            "weighted avg       0.75      0.76      0.75       200\n",
            "\n"
          ],
          "name": "stdout"
        }
      ]
    },
    {
      "cell_type": "markdown",
      "metadata": {
        "id": "qRTFLrceqbZ8",
        "colab_type": "text"
      },
      "source": [
        "# Question 6"
      ]
    },
    {
      "cell_type": "markdown",
      "metadata": {
        "id": "23Ov0uRaNP0b",
        "colab_type": "text"
      },
      "source": [
        "Complete separation occurs in a dataset if there exists β such that\n",
        "$y_iβ\\beta^Tx_i > 0 $ for all the datapoints.  maximum likelihood estimation is not  possible in this  case but we'll see that Gibbs sampling performs very well. "
      ]
    },
    {
      "cell_type": "markdown",
      "metadata": {
        "id": "ctIvUT1XNTXo",
        "colab_type": "text"
      },
      "source": [
        "## Creating synthetic Completely seperable dataset "
      ]
    },
    {
      "cell_type": "code",
      "metadata": {
        "id": "djbMo27iqdxS",
        "colab_type": "code",
        "colab": {}
      },
      "source": [
        "x = np.random.randn(500, 2)\n",
        "beta = np.array([1.5, 1.5])\n",
        "sep = x @ beta + 2 > 0.\n",
        "x1 = x[sep]+[0.5,0.5]\n",
        "x2 = x[~sep]-[0.5,.5]#we add more seperation like this "
      ],
      "execution_count": 0,
      "outputs": []
    },
    {
      "cell_type": "code",
      "metadata": {
        "id": "tS55xvbdq85j",
        "colab_type": "code",
        "outputId": "78ad73e8-9985-40b0-8b41-f5d273575845",
        "colab": {
          "base_uri": "https://localhost:8080/",
          "height": 624
        }
      },
      "source": [
        "fig = plt.figure(figsize=(10,10))\n",
        "plt.scatter(*x1.T,label=\"1\")\n",
        "plt.scatter(*x2.T,  label=\"-1\")\n",
        "t=np.linspace(-4,3,10)\n",
        "line=(beta[0]*t+2)/(-beta[1])\n",
        "plt.plot(t,line,color='r')\n",
        "plt.title(\"fully separable data\")\n",
        "plt.legend()"
      ],
      "execution_count": 0,
      "outputs": [
        {
          "output_type": "execute_result",
          "data": {
            "text/plain": [
              "<matplotlib.legend.Legend at 0x7f9282c238d0>"
            ]
          },
          "metadata": {
            "tags": []
          },
          "execution_count": 60
        },
        {
          "output_type": "display_data",
          "data": {
            "image/png": "[encoded data removed]",
            "text/plain": [
              "<Figure size 720x720 with 1 Axes>"
            ]
          },
          "metadata": {
            "tags": []
          }
        }
      ]
    },
    {
      "cell_type": "markdown",
      "metadata": {
        "id": "LrDNAHRTNsiO",
        "colab_type": "text"
      },
      "source": [
        "## Testing Our Gibbs Sampler on the separable Dataset "
      ]
    },
    {
      "cell_type": "code",
      "metadata": {
        "id": "1l6KCyQAGPz3",
        "colab_type": "code",
        "colab": {}
      },
      "source": [
        "X=np.vstack((x1,x2))\n",
        "y = np.ones((x.shape[0],))\n",
        "y1 = y[sep]\n",
        "y2 = -y[~sep]\n",
        "Y=np.append(y1,y2)"
      ],
      "execution_count": 0,
      "outputs": []
    },
    {
      "cell_type": "code",
      "metadata": {
        "id": "Qq8Z3N72GuYy",
        "colab_type": "code",
        "colab": {}
      },
      "source": [
        "X_train, X_test, y_train, y_test = train_test_split(X, Y, test_size=.2)"
      ],
      "execution_count": 0,
      "outputs": []
    },
    {
      "cell_type": "code",
      "metadata": {
        "id": "QmSzhJtg3Xw6",
        "colab_type": "code",
        "outputId": "cadb49a0-0718-4767-b00a-6e38dfeff586",
        "colab": {
          "base_uri": "https://localhost:8080/",
          "height": 34
        }
      },
      "source": [
        "gi_sampler = GibbsSampler(burn_in=1000)\n",
        "start_time = time.time()\n",
        "betas, zs = gi_sampler.sample(X_train,y_train,5000)\n",
        "print(\"Sampling time: %.3f\" % (time.time()-start_time))"
      ],
      "execution_count": 0,
      "outputs": [
        {
          "output_type": "stream",
          "text": [
            "Sampling time: 24.706\n"
          ],
          "name": "stdout"
        }
      ]
    },
    {
      "cell_type": "code",
      "metadata": {
        "id": "wwrY_LpCz3LB",
        "colab_type": "code",
        "outputId": "ce1f0a03-80f6-43b6-8bd1-70828d232675",
        "colab": {
          "base_uri": "https://localhost:8080/",
          "height": 168
        }
      },
      "source": [
        "y_pred=predict(X_test,betas)\n",
        "print(classification_report(y_test,y_pred))"
      ],
      "execution_count": 0,
      "outputs": [
        {
          "output_type": "stream",
          "text": [
            "              precision    recall  f1-score   support\n",
            "\n",
            "        -1.0       0.88      1.00      0.94        15\n",
            "         1.0       1.00      0.98      0.99        85\n",
            "\n",
            "    accuracy                           0.98       100\n",
            "   macro avg       0.94      0.99      0.96       100\n",
            "weighted avg       0.98      0.98      0.98       100\n",
            "\n"
          ],
          "name": "stdout"
        }
      ]
    }
  ]
}